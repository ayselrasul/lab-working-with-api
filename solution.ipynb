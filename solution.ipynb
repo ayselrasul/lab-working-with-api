{
 "cells": [
  {
   "cell_type": "markdown",
   "id": "3503cd7b",
   "metadata": {},
   "source": [
    "# Lab | Working with APIs"
   ]
  },
  {
   "cell_type": "markdown",
   "id": "539596aa",
   "metadata": {},
   "source": [
    "**Instructions**: \n",
    "\n",
    "Following the class example, create a function that returns the price, names of origin and arrival airports and the name of the company. Do it for all the flights between two dates that cost the same"
   ]
  },
  {
   "cell_type": "code",
   "execution_count": 2,
   "id": "a188d072",
   "metadata": {},
   "outputs": [],
   "source": [
    "import requests\n",
    "import pandas as pd"
   ]
  },
  {
   "cell_type": "code",
   "execution_count": 92,
   "id": "b988f398",
   "metadata": {
    "scrolled": true
   },
   "outputs": [],
   "source": [
    "import requests\n",
    "\n",
    "def get_flights(origin, destination, departure_date, return_date):\n",
    "\n",
    "    url = \"https://travelpayouts-travelpayouts-flight-data-v1.p.rapidapi.com/v1/prices/calendar\"\n",
    "\n",
    "    querystring = {\"calendar_type\":\"departure_date\",\"destination\":destination,\"origin\":origin,\"depart_date\":departure_date,\"currency\":\"EUR\",\"return_date\":return_date}\n",
    "\n",
    "    headers = {\n",
    "        \"X-Access-Token\": \"e7a8c3dad50896cf10e55554be4a9cbe\",\n",
    "        \"X-RapidAPI-Host\": \"travelpayouts-travelpayouts-flight-data-v1.p.rapidapi.com\",\n",
    "        \"X-RapidAPI-Key\": \"a6efb79b85msh1516e7d1e37d61dp190f87jsn59efde9384ca\"\n",
    "    }\n",
    "\n",
    "    response = requests.get(url, headers=headers, params=querystring)\n",
    "    dates_of_flights = list(response.json()['data'].keys())\n",
    "    columns=['origin', 'destination', 'price', 'airline']\n",
    "    flights = pd.DataFrame()\n",
    "    for i in range(len(dates_of_flights)):\n",
    "        flights = flights.append(pd.json_normalize(response.json()['data'][dates_of_flights[i]]))\n",
    "    \n",
    "    return flights[columns]"
   ]
  },
  {
   "cell_type": "code",
   "execution_count": 93,
   "id": "f7014cc6",
   "metadata": {},
   "outputs": [],
   "source": [
    "flights = get_flights('BCN', 'MOW', '2021-01-01', '2022-04-30')"
   ]
  },
  {
   "cell_type": "code",
   "execution_count": 94,
   "id": "c1fa436c",
   "metadata": {},
   "outputs": [
    {
     "data": {
      "text/html": [
       "<div>\n",
       "<style scoped>\n",
       "    .dataframe tbody tr th:only-of-type {\n",
       "        vertical-align: middle;\n",
       "    }\n",
       "\n",
       "    .dataframe tbody tr th {\n",
       "        vertical-align: top;\n",
       "    }\n",
       "\n",
       "    .dataframe thead th {\n",
       "        text-align: right;\n",
       "    }\n",
       "</style>\n",
       "<table border=\"1\" class=\"dataframe\">\n",
       "  <thead>\n",
       "    <tr style=\"text-align: right;\">\n",
       "      <th></th>\n",
       "      <th>origin</th>\n",
       "      <th>destination</th>\n",
       "      <th>price</th>\n",
       "      <th>airline</th>\n",
       "    </tr>\n",
       "  </thead>\n",
       "  <tbody>\n",
       "    <tr>\n",
       "      <th>0</th>\n",
       "      <td>BCN</td>\n",
       "      <td>MOW</td>\n",
       "      <td>1467</td>\n",
       "      <td>W6</td>\n",
       "    </tr>\n",
       "    <tr>\n",
       "      <th>0</th>\n",
       "      <td>BCN</td>\n",
       "      <td>MOW</td>\n",
       "      <td>4737</td>\n",
       "      <td>TK</td>\n",
       "    </tr>\n",
       "  </tbody>\n",
       "</table>\n",
       "</div>"
      ],
      "text/plain": [
       "  origin destination  price airline\n",
       "0    BCN         MOW   1467      W6\n",
       "0    BCN         MOW   4737      TK"
      ]
     },
     "execution_count": 94,
     "metadata": {},
     "output_type": "execute_result"
    }
   ],
   "source": [
    "flights"
   ]
  }
 ],
 "metadata": {
  "kernelspec": {
   "display_name": "Python 3",
   "language": "python",
   "name": "python3"
  },
  "language_info": {
   "codemirror_mode": {
    "name": "ipython",
    "version": 3
   },
   "file_extension": ".py",
   "mimetype": "text/x-python",
   "name": "python",
   "nbconvert_exporter": "python",
   "pygments_lexer": "ipython3",
   "version": "3.8.8"
  }
 },
 "nbformat": 4,
 "nbformat_minor": 5
}
